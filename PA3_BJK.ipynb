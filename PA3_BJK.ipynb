{
 "cells": [
  {
   "cell_type": "markdown",
   "id": "adf9dbb0",
   "metadata": {},
   "source": [
    "# Programming Assignment 3\n",
    "## Bailey Korfhage\n",
    "## Version 1\n",
    "## CS-150-01"
   ]
  },
  {
   "cell_type": "code",
   "execution_count": 1,
   "id": "b72adccc",
   "metadata": {},
   "outputs": [
    {
     "name": "stdout",
     "output_type": "stream",
     "text": [
      "0\n",
      "1\n",
      "2\n",
      "3\n",
      "4\n",
      "5\n",
      "6 *\n",
      "7\n",
      "8\n",
      "9 *\n",
      "10\n",
      "11\n",
      "12 *\n",
      "13\n",
      "14\n",
      "15 *\n",
      "16\n",
      "17\n",
      "18 *\n",
      "19\n",
      "20\n",
      "21 *\n",
      "22\n",
      "23\n",
      "24 *\n",
      "25\n",
      "26\n",
      "27 *\n",
      "28\n",
      "29\n",
      "30 *\n",
      "31\n",
      "32\n",
      "33 *\n",
      "34\n",
      "35\n",
      "36 *\n",
      "37\n",
      "38\n",
      "39 *\n",
      "40\n",
      "41\n",
      "42 *\n",
      "43\n",
      "44\n",
      "45 *\n",
      "46\n",
      "47\n",
      "48 *\n",
      "49\n",
      "50\n",
      "51 *\n",
      "52\n",
      "53\n",
      "54 *\n",
      "55\n",
      "56\n",
      "57 *\n",
      "58\n",
      "59\n",
      "60 *\n",
      "61\n",
      "62\n",
      "63 *\n",
      "64\n",
      "65\n",
      "66 *\n",
      "67\n",
      "68\n",
      "69 *\n",
      "70\n",
      "71\n",
      "72 *\n",
      "73\n",
      "74\n",
      "75 *\n",
      "76\n",
      "77\n",
      "78 *\n",
      "79\n",
      "80\n",
      "81 *\n",
      "82\n",
      "83\n",
      "84 *\n",
      "85\n",
      "86\n",
      "87 *\n",
      "88\n",
      "89\n",
      "90 *\n",
      "91\n",
      "92\n",
      "93 *\n",
      "94\n",
      "95\n",
      "96 *\n",
      "97\n",
      "98\n",
      "99 *\n",
      "100\n"
     ]
    }
   ],
   "source": [
    "for number in range(0,101):\n",
    "    if number%3==0 and number>3:\n",
    "        print(number,'*')\n",
    "    else:\n",
    "        print(number)"
   ]
  },
  {
   "cell_type": "code",
   "execution_count": 2,
   "id": "6647f94f",
   "metadata": {},
   "outputs": [
    {
     "name": "stdout",
     "output_type": "stream",
     "text": [
      "What is the subject's age? 12\n",
      "Minor.\n",
      "What is the subject's age? 56\n",
      "Adult.\n",
      "What is the subject's age? 87\n",
      "Senior Citizen.\n",
      "What is the subject's age? 0\n",
      " \n"
     ]
    }
   ],
   "source": [
    "while True:\n",
    "    age = int(input(\"What is the subject's age? \"))\n",
    "    if age<18 and age!=0:\n",
    "        print(\"Minor.\")\n",
    "    elif age==0:\n",
    "        print(' ')\n",
    "    elif age>=18 and age<=64:\n",
    "        print('Adult.')\n",
    "    else:\n",
    "        print('Senior Citizen.')\n",
    "    if age==0:\n",
    "        break"
   ]
  },
  {
   "cell_type": "code",
   "execution_count": 3,
   "id": "6a4a3de9",
   "metadata": {},
   "outputs": [
    {
     "name": "stdout",
     "output_type": "stream",
     "text": [
      "65 : senior citizen.\n",
      "78 : senior citizen.\n",
      "34 : adult.\n",
      "56 : adult.\n",
      "12 : minor.\n",
      "9 : minor.\n",
      "43 : adult.\n",
      "67 : senior citizen.\n"
     ]
    }
   ],
   "source": [
    "age=[65,78,34,56,12,9,43,67]\n",
    "for number in age:\n",
    "    if number<18 and number!=0:\n",
    "        print(number, \": minor.\")\n",
    "    elif number>=18 and number<=64:\n",
    "        print(number, ': adult.')\n",
    "    else:\n",
    "        print(number, ': senior citizen.')"
   ]
  }
 ],
 "metadata": {
  "kernelspec": {
   "display_name": "Python 3 (ipykernel)",
   "language": "python",
   "name": "python3"
  },
  "language_info": {
   "codemirror_mode": {
    "name": "ipython",
    "version": 3
   },
   "file_extension": ".py",
   "mimetype": "text/x-python",
   "name": "python",
   "nbconvert_exporter": "python",
   "pygments_lexer": "ipython3",
   "version": "3.9.12"
  }
 },
 "nbformat": 4,
 "nbformat_minor": 5
}
